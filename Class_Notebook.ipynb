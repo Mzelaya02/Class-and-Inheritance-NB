{
 "cells": [
  {
   "cell_type": "markdown",
   "id": "4ef4485e",
   "metadata": {},
   "source": [
    "# Ch9 Classes"
   ]
  },
  {
   "cell_type": "markdown",
   "id": "7b465366",
   "metadata": {},
   "source": [
    "### Python is an object oriented programming language.\n",
    "- Almost everything in Python is an object, with its properties and methods (Functions).\n",
    "- A Class is like an object constructor, or a \"blueprint\" for creating objects."
   ]
  },
  {
   "cell_type": "code",
   "execution_count": 13,
   "id": "741b88de",
   "metadata": {},
   "outputs": [
    {
     "name": "stdout",
     "output_type": "stream",
     "text": [
      "The email of first employee: angy.hill@company.com\n",
      "First name of employee1 Angy\n",
      "Last name of employee1 Hill\n",
      "Age of employee2 35\n",
      "email of employee2 peter.white@company.com\n",
      "The full name : Angy Hill\n",
      "The full name : Peter White\n"
     ]
    }
   ],
   "source": [
    "class Employee(): #name of the class\n",
    "# init is the contructor of the class. It is mandatory for a class construction. \n",
    "# self is used to represent the instance of the class\n",
    "    \n",
    "    def __init__(self,first,last,age,dept): #method/function\n",
    "        self.first=first.title()\n",
    "        self.last=last.title()\n",
    "        self.age=age\n",
    "        self.dept=dept.title()\n",
    "        self.email=first.lower() +'.'+ last.lower()+\"@company.com\"\n",
    "        \n",
    "    # creating a method called full-name. Needs only the instance\n",
    "    def fullname(self):\n",
    "        print(f\"The full name : {self.first} {self.last}\")\n",
    "        \n",
    "#init will run automatically when you call the class        \n",
    "emp_1=Employee(\"angy\", 'hill',25, \"accounting\")\n",
    "emp_2=Employee(\"PETER\", \"WHITE\",35, \"FINANCE\")\n",
    "\n",
    "print(f\"The email of first employee: {emp_1.email}\")\n",
    "print(f\"First name of employee1 {emp_1.first}\")\n",
    "print(f\"Last name of employee1 {emp_1.last}\")\n",
    "print(f\"Age of employee2 {emp_2.age}\")\n",
    "print(f\"email of employee2 {emp_2.email}\")\n",
    "#print(f\"Full name of employee1 {emp_1.first} {emp_1.last}\")\n",
    "#print(f\"Full name of employee2 {emp_2.first} {emp_2.last}\")\n",
    "emp_1.fullname()\n",
    "emp_2.fullname()"
   ]
  },
  {
   "cell_type": "markdown",
   "id": "5d60f7c0",
   "metadata": {},
   "source": [
    "### Creating the Dog Class\n",
    "Each instance created from the Dog class will store a name and an age, and we’ll give each dog the ability to sit() and roll_over():"
   ]
  },
  {
   "cell_type": "code",
   "execution_count": 14,
   "id": "6e84155c",
   "metadata": {},
   "outputs": [
    {
     "name": "stdout",
     "output_type": "stream",
     "text": [
      "Shelly\n",
      "4\n",
      "Shelly is sitting\n",
      "Shelly is rolled over\n",
      "Penny is sitting\n",
      "Penny is rolled over\n",
      "Penny shaked a random person\n",
      "Penny is barking to a stranger\n",
      "Penny is now down\n",
      "Penny is sitting\n"
     ]
    }
   ],
   "source": [
    "class Dog():\n",
    "    def __init__(self,name,age):\n",
    "        self.name=name.title()\n",
    "        self.age=age\n",
    "    def sit(self):\n",
    "        print(f\"{self.name} is sitting\")\n",
    "    def roll_over(self):\n",
    "        print(f\"{self.name} is rolled over\")\n",
    "    \n",
    "    def shake(self):\n",
    "        print(f\"{self.name} shaked a random person\")\n",
    "    def bark(self):\n",
    "        print(f\"{self.name} is barking to a stranger\")\n",
    "    def down(self):\n",
    "        print(f\"{self.name} is now down\")\n",
    "\n",
    "dog1=Dog(\"Shelly\",4)\n",
    "print(dog1.name)\n",
    "print(dog1.age)\n",
    "dog1.sit()\n",
    "dog1.roll_over()\n",
    "dog2=Dog(\"Penny\",1)\n",
    "dog2.sit()\n",
    "dog2.roll_over()\n",
    "dog2.shake()\n",
    "dog2.bark()\n",
    "dog2.down()\n",
    "dog2.sit()"
   ]
  },
  {
   "cell_type": "markdown",
   "id": "8bbcc5c0",
   "metadata": {},
   "source": [
    "#### Note:\n",
    "- By convention, capitalized names refer to classes in Python. \n",
    "- The parentheses in the class definition are empty because we’re creating this class from scratch.\n",
    "- All classes have a function called __init__(), which is always executed when the class is being initiated.\n",
    "- Use the __init__() function to assign values to object properties, or other operations that are necessary to do when the object is being created\n",
    "- Any variable prefixed with `self` is available to every method in the class, and we’ll also be able to access these variables through any instance created from the class.\n",
    "- The Dog class has two other methods defined: sit() and roll_over().Because these methods don’t need additional information like a name or age, we just define them to have one parameter, self."
   ]
  },
  {
   "cell_type": "markdown",
   "id": "402f0696",
   "metadata": {},
   "source": [
    "### Restaurant: Make a class called Restaurant. The __init__() method for Restaurant should store two attributes: a restaurant_name and a cuisine_type.\n",
    "- Make a method called `describe_restaurant()` that prints name of teh restrurent and the cuisine type\n",
    "- and a method called open_restaurant() that prints a message indicating that the restaurant is open.\n",
    "- Make an instance called restaurant from your class. Print the two attributes individually, and then call both methods.\n"
   ]
  },
  {
   "cell_type": "code",
   "execution_count": 10,
   "id": "c4316b2d",
   "metadata": {},
   "outputs": [
    {
     "name": "stdout",
     "output_type": "stream",
     "text": [
      "Restaurant name: The Mean Queen\n",
      "Cuisine type: pizza.\n",
      "The Mean Queen serves wonderful pizza.\n"
     ]
    }
   ],
   "source": [
    "class restaurant():\n",
    "    \n",
    "    def __init__(self,name, cuisine_type):\n",
    "        self.name=name.title()\n",
    "        self.cuisine_type=cuisine_type\n",
    "        \n",
    "    def describe_restaurant(self):\n",
    "        print(f\"{self.name} serves wonderful {self.cuisine_type}.\")\n",
    "        \n",
    "    def open_restaurant(self):\n",
    "        print(f\"{self.name} is now open. Come on in!\")\n",
    "        \n",
    "restaurant1=restaurant(\"The mean Queen\", \"pizza\")\n",
    "print(f\"Restaurant name: {restaurant1.name}\")\n",
    "print(f\"Cuisine type: {restaurant1.cuisine_type}.\")\n",
    "restaurant1.describe_restaurant()"
   ]
  },
  {
   "cell_type": "code",
   "execution_count": null,
   "id": "f9be3f46",
   "metadata": {},
   "outputs": [],
   "source": []
  },
  {
   "cell_type": "markdown",
   "id": "8b4a4fca",
   "metadata": {},
   "source": [
    "### - Create three different instances from the class, and call describe_restaurant() for each instance."
   ]
  },
  {
   "cell_type": "code",
   "execution_count": 23,
   "id": "b3845fe0",
   "metadata": {},
   "outputs": [
    {
     "name": "stdout",
     "output_type": "stream",
     "text": [
      "Restaurant name: The Mean Queen\n",
      "Cuisine type: Pizza\n",
      "The Mean Queen serves wonderful pizza.\n",
      "Restaurant name: Roylas Hot Chicken\n",
      "Cuisine type: hot chicken.\n",
      "Roylas Hot Chicken serves wonderful hot chicken.\n",
      "Restaurant name: Five Guys\n",
      "Cuisine type: Burgers\n",
      "Five Guys serves wonderful burgers.\n"
     ]
    }
   ],
   "source": [
    "restaurant1=restaurant(\"The mean Queen\", 'pizza')\n",
    "restaurant2=restaurant(\"Roylas hot chicken\", 'hot chicken')\n",
    "restaurant3=restaurant(\"Five Guys\", 'burgers')\n",
    "\n",
    "print(f\"Restaurant name: {restaurant1.name}\")\n",
    "print(f\"Cuisine type: {restaurant1.cuisine_type.title()}\")\n",
    "restaurant1.describe_restaurant()\n",
    "\n",
    "print(f\"Restaurant name: {restaurant2.name}\")\n",
    "print(f\"Cuisine type: {restaurant2.cuisine_type}.\")\n",
    "restaurant2.describe_restaurant()\n",
    "\n",
    "print(f\"Restaurant name: {restaurant3.name}\")\n",
    "print(f\"Cuisine type: {restaurant3.cuisine_type.title()}\")\n",
    "restaurant3.describe_restaurant()"
   ]
  },
  {
   "cell_type": "code",
   "execution_count": null,
   "id": "6b24e6f1",
   "metadata": {},
   "outputs": [],
   "source": []
  },
  {
   "cell_type": "markdown",
   "id": "8f4032c6",
   "metadata": {},
   "source": [
    "### Users: Make a class called User. Create attributes called first_name and last_name, username, location \n",
    "- Make a method called describe_user() that prints a summary of the user’s information. \n",
    "- Make another method called greet_user() that prints a personalized greeting to the user.\n",
    "- Create several instances representing different users, and call both methods for each user."
   ]
  },
  {
   "cell_type": "code",
   "execution_count": 15,
   "id": "dda94ce2",
   "metadata": {},
   "outputs": [
    {
     "name": "stdout",
     "output_type": "stream",
     "text": [
      "\n",
      "Eric Matthews\n",
      "\t\tUsername: e_mattews\n",
      "\t\tLocation: Alaska\n",
      "\n",
      " Welcome back Eric.\n",
      "\n",
      "Willie Burger\n",
      "\t\tUsername: w_burger\n",
      "\t\tLocation: Alaska\n",
      "\n",
      " Welcome back Willie.\n"
     ]
    }
   ],
   "source": [
    "class User():\n",
    "    def __init__(self,fname, lname, username, location):\n",
    "        self.fname=fname.title()\n",
    "        self.lname=lname.title()\n",
    "        self.username=username\n",
    "        self.location=location.title()\n",
    "        \n",
    "    def describe_user(self):\n",
    "        print(f\"\\n{self.fname} {self.lname}\")\n",
    "        print(f\"\\t\\tUsername: {self.username}\")\n",
    "        print(f\"\\t\\tLocation: {self.location}\")\n",
    "        \n",
    "    def greet_user(self):\n",
    "        print(f\"\\n Welcome back {self.fname}.\")\n",
    "\n",
    "user1=User('eric', 'matthews', 'e_mattews', 'alaska')\n",
    "user1.describe_user()\n",
    "user1.greet_user()\n",
    "\n",
    "user2=User('willie', 'burger', 'w_burger', 'alaska')\n",
    "user2.describe_user()\n",
    "user2.greet_user()"
   ]
  },
  {
   "cell_type": "markdown",
   "id": "8b5bfff2",
   "metadata": {},
   "source": [
    "## Setting a Default Value for an Attribute\n",
    "* Create a class called 'car' which contain make, model, and year.\n",
    "* Add the odometer_reading default to zero (New car).\n",
    "* Create a method called 'get_descriptive_name' which return the car informations\n",
    "* Create a method called 'read_odoneter' which will display the odometer reading of the car\n",
    "* Create two attributes to test the code"
   ]
  },
  {
   "cell_type": "code",
   "execution_count": 19,
   "id": "bbdc7a10",
   "metadata": {},
   "outputs": [],
   "source": [
    "class car():\n",
    "    #Create a class called 'car' which contain make, model, and year.\n",
    "    def __init__(self, make, model, year):\n",
    "        self.make=make\n",
    "        self.model=model\n",
    "        self.year=year\n",
    "    #Add the odometer_reading default to zero (New car)\n",
    "        self.odometer_reading=0\n",
    "    def get_descriptive_name(self):\n",
    "        long_name= str(self.year)+\" \"+ self.make + \" \"+self.model\n",
    "        return long_name.title()\n",
    "    \n",
    "    def read_odometer(self):\n",
    "        print(f\"This car has {self.odometer_reading} miles on it\")"
   ]
  },
  {
   "cell_type": "code",
   "execution_count": 20,
   "id": "35859896",
   "metadata": {
    "scrolled": true
   },
   "outputs": [
    {
     "name": "stdout",
     "output_type": "stream",
     "text": [
      "My car: 2019 Nissan Versa\n",
      "My friends car: 2018 Hyundai Elantra\n",
      "This car has 0 miles on it\n",
      "This car has 0 miles on it\n"
     ]
    }
   ],
   "source": [
    "my_car=car('Nissan', 'Versa', 2019)\n",
    "friends_car=car('Hyundai', 'Elantra', 2018)\n",
    "my_car.get_descriptive_name()\n",
    "friends_car.get_descriptive_name()\n",
    "print(f\"My car: {my_car.get_descriptive_name()}\")\n",
    "print(f\"My friends car: {friends_car.get_descriptive_name()}\")\n",
    "\n",
    "my_car.read_odometer()\n",
    "friends_car.read_odometer()"
   ]
  },
  {
   "cell_type": "markdown",
   "id": "3f840f3e",
   "metadata": {},
   "source": [
    "#### Modifying the odometer reading without the method \n"
   ]
  },
  {
   "cell_type": "code",
   "execution_count": 21,
   "id": "6f8fa540",
   "metadata": {},
   "outputs": [
    {
     "name": "stdout",
     "output_type": "stream",
     "text": [
      "This car has 23 miles on it\n"
     ]
    }
   ],
   "source": [
    "my_car.odometer_reading=23 #Overwrite the default value \n",
    "my_car.read_odometer()"
   ]
  },
  {
   "cell_type": "code",
   "execution_count": 22,
   "id": "2f382418",
   "metadata": {},
   "outputs": [
    {
     "name": "stdout",
     "output_type": "stream",
     "text": [
      "This car has 10 miles on it\n"
     ]
    }
   ],
   "source": [
    "friends_car.odometer_reading=10\n",
    "friends_car.read_odometer()"
   ]
  },
  {
   "cell_type": "markdown",
   "id": "27f8f244",
   "metadata": {},
   "source": [
    "### Modifying an Attribute’s Value Through a Method"
   ]
  },
  {
   "cell_type": "code",
   "execution_count": 24,
   "id": "9b3ae956",
   "metadata": {},
   "outputs": [],
   "source": [
    "class car():\n",
    "    #Create a class called 'car' which contain make, model, and year.\n",
    "    def __init__(self, make, model, year):\n",
    "        self.make=make\n",
    "        self.model=model\n",
    "        self.year=year\n",
    "    #Add the odometer_reading default to zero (New car)\n",
    "        self.odometer_reading=0\n",
    "    def get_descriptive_name(self):\n",
    "        long_name= str(self.year)+\" \"+ self.make + \" \"+self.model\n",
    "        return long_name.title()\n",
    "    \n",
    "    def read_odometer(self):\n",
    "        print(f\"This car has {self.odometer_reading} miles on it\")\n",
    "        \n",
    "    def update_odometer(self,mileage):\n",
    "        self.odometer_reading=mileage\n",
    "        print(f\"The current odometer reading {self.odometer_reading}\")"
   ]
  },
  {
   "cell_type": "code",
   "execution_count": 25,
   "id": "3c3c57c2",
   "metadata": {},
   "outputs": [
    {
     "name": "stdout",
     "output_type": "stream",
     "text": [
      "The car information 2019 Nissan Versa\n",
      "This car has 0 miles on it\n",
      "The current odometer reading 23\n"
     ]
    }
   ],
   "source": [
    "my_car=car('Nissan', 'Versa', 2019)\n",
    "print(\"The car information\", my_car.get_descriptive_name())\n",
    "my_car.read_odometer()\n",
    "my_car.update_odometer(23)"
   ]
  },
  {
   "cell_type": "code",
   "execution_count": 26,
   "id": "3c8bad82",
   "metadata": {},
   "outputs": [
    {
     "name": "stdout",
     "output_type": "stream",
     "text": [
      "This car has 23 miles on it\n"
     ]
    }
   ],
   "source": [
    "my_car.read_odometer()"
   ]
  },
  {
   "cell_type": "code",
   "execution_count": 34,
   "id": "4a4a427d",
   "metadata": {},
   "outputs": [
    {
     "name": "stdout",
     "output_type": "stream",
     "text": [
      "This car has 23 miles on it\n"
     ]
    }
   ],
   "source": [
    "my_car.read_odometer()"
   ]
  },
  {
   "cell_type": "markdown",
   "id": "fd560131",
   "metadata": {},
   "source": [
    "### Incrementing an Attribute’s Value Through a Method"
   ]
  },
  {
   "cell_type": "code",
   "execution_count": 35,
   "id": "8d76b884",
   "metadata": {},
   "outputs": [],
   "source": [
    "class car():\n",
    "    #Create a class called 'car' which contain make, model, and year.\n",
    "    def __init__(self, make, model, year):\n",
    "        self.make=make\n",
    "        self.model=model\n",
    "        self.year=year\n",
    "    #Add the odometer_reading default to zero (New car)\n",
    "        self.odometer_reading=0\n",
    "    def get_descriptive_name(self):\n",
    "        long_name= str(self.year)+\" \"+ self.make + \" \"+self.model\n",
    "        return long_name.title()\n",
    "    \n",
    "    def read_odometer(self):\n",
    "        print(f\"This car has {self.odometer_reading} miles on it\")\n",
    "        \n",
    "    def update_odometer(self,mileage):\n",
    "        self.odometer_reading=mileage\n",
    "        print(f\"The current odometer reading {self.odometer_reading}\")\n",
    "        \n",
    "    def incremental_odometer(self,miles):\n",
    "        self.odometer_reading+=miles\n",
    "        print(f\"The updated odometer reading {self.odometer_reading}\")"
   ]
  },
  {
   "cell_type": "code",
   "execution_count": 37,
   "id": "1500c7e7",
   "metadata": {},
   "outputs": [
    {
     "name": "stdout",
     "output_type": "stream",
     "text": [
      "The car information 2019 Nissan Versa\n",
      "This car has 0 miles on it\n",
      "The current odometer reading 23\n",
      "The updated odometer reading 123\n",
      "The updated odometer reading 1123\n",
      "This car has 1123 miles on it\n"
     ]
    }
   ],
   "source": [
    "my_car=car('Nissan', 'Versa', 2019)\n",
    "print(\"The car information\", my_car.get_descriptive_name())\n",
    "my_car.read_odometer()\n",
    "my_car.update_odometer(23)\n",
    "my_car.incremental_odometer(100)\n",
    "my_car.incremental_odometer(1000)\n",
    "my_car.read_odometer()"
   ]
  },
  {
   "cell_type": "markdown",
   "id": "b96f0d18",
   "metadata": {},
   "source": [
    "# Inheritance\n",
    "- You don’t always have to start from scratch when writing a class. If the class you’re writing is a specialized version of another class you wrote, you can use inheritance. \n",
    "- When one class inherits from another, it automatically takes on all the attributes and methods of the first class. The original class is called the `parent class`, and the new class is the `child class`. \n",
    "- The child class inherits every attribute and method from its parent class but is also free to define new attributes and methods of its own."
   ]
  },
  {
   "cell_type": "code",
   "execution_count": null,
   "id": "5b7c3efd",
   "metadata": {},
   "outputs": [],
   "source": [
    "class calculator():\n",
    "    def __init__(self,input1,input2):\n",
    "        self.input1=input1\n",
    "        self.input2=input2\n",
    "    def addition(self):\n",
    "        return self.input1+self.input2\n",
    "    def subtraction(self):\n",
    "        return self.input1-self.input2\n",
    "    def multiplication(self):\n",
    "        return self.input1*self.input2\n",
    "    def division(self):\n",
    "        return self.input1/self.input2\n",
    "input_1=int(input(\"Enter first number: \"))\n",
    "input_2=int(input(\"Enter second number: \"))\n",
    "my_calc=calculator(input_1,input_2)\n",
    "\n",
    "choice-1\n",
    "while choice!=0:\n",
    "    print()\n",
    "    print(\"0. Exit\")\n",
    "    print(\"1. Addition\")\n",
    "    print(\"2. Subtraction\")\n",
    "    print(\"3. Multiplication\")\n",
    "    print(\"4. Division\")\n",
    "    choice=int(input(\"Enter your choice....\"))\n",
    "    \n",
    "    if choice==1:\n",
    "        print(f\"Result: {my_calc.addition()}\")\n",
    "        \n",
    "    elif choice==2:\n",
    "        print(f\"Result: {my_calc.subtraction()}\")\n",
    "        \n",
    "    elif choice==3:\n",
    "        print(f\"Result: {my_calc.mulitplication()}\")\n",
    "        \n",
    "    elif choice==4:\n",
    "        print(f\"Result: {my_calc.division()}\")\n",
    "    elif choice==0:\n",
    "        print(\"Exit\")\n",
    "    else:\n",
    "        print(\"Sorry invalid choice\")\n",
    "print()"
   ]
  },
  {
   "cell_type": "markdown",
   "id": "1eab5d4f",
   "metadata": {},
   "source": [
    "### Parent Class- Polygon\n",
    "- Create a method called calc_perimeter"
   ]
  },
  {
   "cell_type": "code",
   "execution_count": 1,
   "id": "34de9649",
   "metadata": {},
   "outputs": [],
   "source": [
    "class Polygon:\n",
    "    def __init__(self,side_length):\n",
    "        self.side_length=side_length\n",
    "        \n",
    "    def perimeter(self):\n",
    "        return sum(self.side_length)"
   ]
  },
  {
   "cell_type": "code",
   "execution_count": 2,
   "id": "8f3cf853",
   "metadata": {},
   "outputs": [
    {
     "name": "stdout",
     "output_type": "stream",
     "text": [
      "23\n"
     ]
    }
   ],
   "source": [
    "some_shape=Polygon([1,3,5,6,8])\n",
    "print(some_shape.perimeter())"
   ]
  },
  {
   "cell_type": "code",
   "execution_count": 3,
   "id": "cf2a2ca0",
   "metadata": {},
   "outputs": [
    {
     "name": "stdout",
     "output_type": "stream",
     "text": [
      "177\n"
     ]
    }
   ],
   "source": [
    "another_shape=Polygon([2,56,65,12,34,8])\n",
    "print(another_shape.perimeter())"
   ]
  },
  {
   "cell_type": "markdown",
   "id": "0e6a5404",
   "metadata": {},
   "source": [
    "## Child Class"
   ]
  },
  {
   "cell_type": "markdown",
   "id": "54416209",
   "metadata": {},
   "source": [
    "### Create a child class called 'Triangle' and calculate the perimeter and the area"
   ]
  },
  {
   "cell_type": "code",
   "execution_count": 6,
   "id": "f01ecb55",
   "metadata": {},
   "outputs": [],
   "source": [
    "class Triangle(Polygon):\n",
    "    def __init__(self,side_length):\n",
    "        super().__init__(side_length)\n",
    "        \n",
    "    def area(self):\n",
    "        a,b,c=self.side_length #Unpacking the input variables\n",
    "        s=(a+b+c)/2\n",
    "        return (s*(s-a)*(s-b)*(s-c))**.5\n",
    "        "
   ]
  },
  {
   "cell_type": "code",
   "execution_count": 8,
   "id": "2ed1c129",
   "metadata": {},
   "outputs": [
    {
     "name": "stdout",
     "output_type": "stream",
     "text": [
      "The perimeter is 12\n",
      "The area is 6\n"
     ]
    }
   ],
   "source": [
    "a_triangle=Triangle([3,4,5])\n",
    "print(f\"The perimeter is {a_triangle.perimeter()}\")\n",
    "print(f\"The area is {round(a_triangle.area())}\")"
   ]
  },
  {
   "cell_type": "markdown",
   "id": "158944d4",
   "metadata": {},
   "source": [
    "### Create a child class called 'Sqaure' and calculate the perimeter and the area"
   ]
  },
  {
   "cell_type": "code",
   "execution_count": 9,
   "id": "0728edbb",
   "metadata": {},
   "outputs": [],
   "source": [
    "class Square(Polygon):\n",
    "    def __init__(self,side_length):\n",
    "        super().__init__(side_length)\n",
    "    def area(self):\n",
    "        a,b,c,d=self.side_length\n",
    "        return a**2 # all side values are the same\n",
    "    \n",
    "    "
   ]
  },
  {
   "cell_type": "code",
   "execution_count": 12,
   "id": "fc65ec15",
   "metadata": {},
   "outputs": [
    {
     "name": "stdout",
     "output_type": "stream",
     "text": [
      "The area 4\n",
      "The perimeter: 8\n"
     ]
    }
   ],
   "source": [
    "a_square=Square([2,2,2,2])\n",
    "print(f\"The area {a_square.area()}\")\n",
    "print(f\"The perimeter: {a_square.perimeter()}\")"
   ]
  },
  {
   "cell_type": "markdown",
   "id": "dc4d06cc",
   "metadata": {},
   "source": [
    "### Create a child class called 'Rectangle' and calculate the perimeter and the area"
   ]
  },
  {
   "cell_type": "code",
   "execution_count": 17,
   "id": "4c94a0d7",
   "metadata": {},
   "outputs": [],
   "source": [
    "class Rectangle(Polygon):\n",
    "    def __init__(self,side_length):\n",
    "        super().__init__(side_length)\n",
    "        \n",
    "    def area(self):\n",
    "        a,b,c,d=self.side_length\n",
    "        if a!=b:\n",
    "            result=a*b\n",
    "        elif a!=c:\n",
    "            result=a*c\n",
    "        else:\n",
    "            result= a*d\n",
    "        return result"
   ]
  },
  {
   "cell_type": "code",
   "execution_count": 18,
   "id": "1fa32a7b",
   "metadata": {},
   "outputs": [
    {
     "name": "stdout",
     "output_type": "stream",
     "text": [
      "The area 6\n",
      "The perimeter: 10\n"
     ]
    }
   ],
   "source": [
    "a_rectangle=Rectangle([2,2,3,3])\n",
    "print(f\"The area {a_rectangle.area()}\")\n",
    "print(f\"The perimeter: {a_rectangle.perimeter()}\")"
   ]
  },
  {
   "cell_type": "markdown",
   "id": "5b594c20",
   "metadata": {},
   "source": [
    "### Practice: Create a class named Person, with firstname and lastname properties, and a printname method:"
   ]
  },
  {
   "cell_type": "code",
   "execution_count": 28,
   "id": "681edaaf",
   "metadata": {},
   "outputs": [],
   "source": [
    "class Person():\n",
    "    def __init__(self,fname,lname):\n",
    "        self.fname=fname.title()\n",
    "        self.lname=lname.title()\n",
    "        \n",
    "    def print_name(self):\n",
    "        print(f\"Fullname: {self.fname} {self.lname}\")"
   ]
  },
  {
   "cell_type": "code",
   "execution_count": 29,
   "id": "9d3a0e56",
   "metadata": {},
   "outputs": [
    {
     "name": "stdout",
     "output_type": "stream",
     "text": [
      "Fullname: John Smith\n",
      "Fullname: Anisha Ray\n"
     ]
    }
   ],
   "source": [
    "person1=Person(\"John\", \"Smith\")\n",
    "person2=Person(\"Anisha\", \"Ray\")\n",
    "person1.print_name()\n",
    "person2.print_name()"
   ]
  },
  {
   "cell_type": "markdown",
   "id": "a8023470",
   "metadata": {},
   "source": [
    "### Create child classes called Student using Inheritance contains the first and last name and the graduation year \n",
    "- Add a method called `welcome` that prints the student graduation year\n",
    "- Test the student method for two students"
   ]
  },
  {
   "cell_type": "code",
   "execution_count": 38,
   "id": "8a1571d5",
   "metadata": {},
   "outputs": [],
   "source": [
    "class Student(Person):\n",
    "    def __init__(self,fname,lname,year):\n",
    "        super().__init__(fname,lname)\n",
    "        self.year=year\n",
    "    def welcome(self):\n",
    "        print(f\"Welcome, {self.fname} {self.lname} to the class of {self.year}\")"
   ]
  },
  {
   "cell_type": "code",
   "execution_count": 39,
   "id": "5816f6a4",
   "metadata": {},
   "outputs": [
    {
     "name": "stdout",
     "output_type": "stream",
     "text": [
      "Fullname: John Smith\n",
      "Welcome, John Smith to the class of 2027\n"
     ]
    }
   ],
   "source": [
    "Student1=Student(\"John\",\"Smith\",2027)\n",
    "Student1.print_name()\n",
    "Student1.welcome()"
   ]
  },
  {
   "cell_type": "markdown",
   "id": "757239a4",
   "metadata": {},
   "source": [
    "### Use inheritance to create the square class from parent class rectangle"
   ]
  },
  {
   "cell_type": "markdown",
   "id": "b68e2382",
   "metadata": {},
   "source": [
    "### Create a parent class rectangle and two methods called area and perimeter"
   ]
  },
  {
   "cell_type": "code",
   "execution_count": 32,
   "id": "37dbbefd",
   "metadata": {},
   "outputs": [],
   "source": [
    "class Rectangle():\n",
    "    def __init__(self,length,width):\n",
    "        self.length=length\n",
    "        self.width=width\n",
    "        \n",
    "    def area(self):\n",
    "        return self.length*self.width\n",
    "    \n",
    "    def perimeter(self):\n",
    "        return 2*(self.length+self.width)"
   ]
  },
  {
   "cell_type": "markdown",
   "id": "c4392f46",
   "metadata": {},
   "source": [
    "### Create a child class square and test for two cases, do method overloading for area and perimeter"
   ]
  },
  {
   "cell_type": "code",
   "execution_count": 33,
   "id": "afe0e4aa",
   "metadata": {},
   "outputs": [],
   "source": [
    "class Square(Rectangle):\n",
    "    def __init__(self,length):\n",
    "        super().__init__(length,length)"
   ]
  },
  {
   "cell_type": "code",
   "execution_count": 35,
   "id": "abf2b83c",
   "metadata": {},
   "outputs": [
    {
     "name": "stdout",
     "output_type": "stream",
     "text": [
      "16\n",
      "16\n"
     ]
    }
   ],
   "source": [
    "square1=Square(4)\n",
    "print(square1.area())\n",
    "print(square1.perimeter())"
   ]
  },
  {
   "cell_type": "markdown",
   "id": "3bdcfd1c",
   "metadata": {},
   "source": [
    "## Lambda Function"
   ]
  },
  {
   "cell_type": "code",
   "execution_count": 2,
   "id": "ff33dd0e",
   "metadata": {},
   "outputs": [],
   "source": [
    "# The identity function returns the argument\n",
    "def identity(x):\n",
    "    return x"
   ]
  },
  {
   "cell_type": "code",
   "execution_count": 3,
   "id": "6ab4b4b1",
   "metadata": {},
   "outputs": [
    {
     "data": {
      "text/plain": [
       "3"
      ]
     },
     "execution_count": 3,
     "metadata": {},
     "output_type": "execute_result"
    }
   ],
   "source": [
    "identity(3)"
   ]
  },
  {
   "cell_type": "markdown",
   "id": "e57bd16b",
   "metadata": {},
   "source": [
    "### A lambda function construction:\n",
    "lambda argument(s): expression "
   ]
  },
  {
   "cell_type": "code",
   "execution_count": 4,
   "id": "39c3dee9",
   "metadata": {},
   "outputs": [
    {
     "data": {
      "text/plain": [
       "2"
      ]
     },
     "execution_count": 4,
     "metadata": {},
     "output_type": "execute_result"
    }
   ],
   "source": [
    "(lambda x:x)(2) # (Lamda argument:expression)(input)"
   ]
  },
  {
   "cell_type": "code",
   "execution_count": 5,
   "id": "0c880d16",
   "metadata": {},
   "outputs": [
    {
     "data": {
      "text/plain": [
       "4"
      ]
     },
     "execution_count": 5,
     "metadata": {},
     "output_type": "execute_result"
    }
   ],
   "source": [
    "(lambda x:x+1)(3)"
   ]
  },
  {
   "cell_type": "code",
   "execution_count": 7,
   "id": "3f3caf88",
   "metadata": {},
   "outputs": [],
   "source": [
    "# As lambda is a function we can store it in a variable\n",
    "add_one=lambda x:x+1"
   ]
  },
  {
   "cell_type": "code",
   "execution_count": 8,
   "id": "4216c280",
   "metadata": {},
   "outputs": [
    {
     "data": {
      "text/plain": [
       "4"
      ]
     },
     "execution_count": 8,
     "metadata": {},
     "output_type": "execute_result"
    }
   ],
   "source": [
    "add_one(3)"
   ]
  },
  {
   "cell_type": "markdown",
   "id": "f1e4c49e",
   "metadata": {},
   "source": [
    "### Common use of lambda function \n",
    "- It's used with iterables which is a series of values\n",
    "- Python iterables are list, dictionary, tuple, strings, etc. \n",
    "- Two common function works with lambda function are filter(), map()"
   ]
  },
  {
   "cell_type": "markdown",
   "id": "fda58603",
   "metadata": {},
   "source": [
    "### Filter()"
   ]
  },
  {
   "cell_type": "markdown",
   "id": "bb76a499",
   "metadata": {},
   "source": [
    "#### Example: we have a list [1,2,3,4,5,6,7,8,9,10]. We are only interested in even numbers. EXAM QUESTIONS!!!"
   ]
  },
  {
   "cell_type": "code",
   "execution_count": 11,
   "id": "d28297c9",
   "metadata": {},
   "outputs": [
    {
     "data": {
      "text/plain": [
       "[2, 4, 6, 8, 10]"
      ]
     },
     "execution_count": 11,
     "metadata": {},
     "output_type": "execute_result"
    }
   ],
   "source": [
    "list1=[1,2,3,4,5,6,7,8,9,10]\n",
    "list(filter(lambda x:x%2==0, list1))"
   ]
  },
  {
   "cell_type": "code",
   "execution_count": 12,
   "id": "34fa62a8",
   "metadata": {},
   "outputs": [
    {
     "data": {
      "text/plain": [
       "[1, 3, 5, 7, 9]"
      ]
     },
     "execution_count": 12,
     "metadata": {},
     "output_type": "execute_result"
    }
   ],
   "source": [
    "# Filter the odd numbers\n",
    "list(filter(lambda x: x%2==1, list1))"
   ]
  },
  {
   "cell_type": "code",
   "execution_count": 13,
   "id": "86737e74",
   "metadata": {},
   "outputs": [
    {
     "data": {
      "text/plain": [
       "[3, 6, 9]"
      ]
     },
     "execution_count": 13,
     "metadata": {},
     "output_type": "execute_result"
    }
   ],
   "source": [
    "# Filter the number multiple of 3\n",
    "list(filter(lambda x: x%3==0, list1))"
   ]
  },
  {
   "cell_type": "markdown",
   "id": "d7c05e98",
   "metadata": {},
   "source": [
    "### `map()` use whenever you want to update/modify every value in an iterable "
   ]
  },
  {
   "cell_type": "code",
   "execution_count": 14,
   "id": "8787a733",
   "metadata": {},
   "outputs": [
    {
     "data": {
      "text/plain": [
       "[1, 4, 9, 16, 25, 36, 49, 64, 81, 100]"
      ]
     },
     "execution_count": 14,
     "metadata": {},
     "output_type": "execute_result"
    }
   ],
   "source": [
    "# Create a new list of power of two\n",
    "list1=[1,2,3,4,5,6,7,8,9,10]\n",
    "\n",
    "list(map(lambda x: pow(x,2),list1))"
   ]
  },
  {
   "cell_type": "code",
   "execution_count": 15,
   "id": "7c05cd3a",
   "metadata": {},
   "outputs": [
    {
     "data": {
      "text/plain": [
       "[1, 8, 27, 64, 125, 216, 343, 512, 729, 1000]"
      ]
     },
     "execution_count": 15,
     "metadata": {},
     "output_type": "execute_result"
    }
   ],
   "source": [
    "# Cube of each number\n",
    "list(map(lambda y: pow(y,3),list1))"
   ]
  },
  {
   "cell_type": "markdown",
   "id": "79025701",
   "metadata": {},
   "source": [
    "### Example"
   ]
  },
  {
   "cell_type": "code",
   "execution_count": 16,
   "id": "c5479bcd",
   "metadata": {},
   "outputs": [
    {
     "data": {
      "text/plain": [
       "6"
      ]
     },
     "execution_count": 16,
     "metadata": {},
     "output_type": "execute_result"
    }
   ],
   "source": [
    "(lambda x,y,z:x+y+z)(1,2,3)"
   ]
  },
  {
   "cell_type": "code",
   "execution_count": 18,
   "id": "d748093d",
   "metadata": {},
   "outputs": [
    {
     "data": {
      "text/plain": [
       "3"
      ]
     },
     "execution_count": 18,
     "metadata": {},
     "output_type": "execute_result"
    }
   ],
   "source": [
    "(lambda x, y, z=2: x+y+z)(1,2,0)"
   ]
  },
  {
   "cell_type": "code",
   "execution_count": 19,
   "id": "b8a4cb7d",
   "metadata": {},
   "outputs": [
    {
     "data": {
      "text/plain": [
       "23"
      ]
     },
     "execution_count": 19,
     "metadata": {},
     "output_type": "execute_result"
    }
   ],
   "source": [
    "(lambda *args: sum(args))(1,2,3,4,5,8)"
   ]
  },
  {
   "cell_type": "markdown",
   "id": "0761f6ac",
   "metadata": {},
   "source": [
    "### Exception handling "
   ]
  },
  {
   "cell_type": "code",
   "execution_count": 20,
   "id": "141911e2",
   "metadata": {},
   "outputs": [
    {
     "ename": "ZeroDivisionError",
     "evalue": "division by zero",
     "output_type": "error",
     "traceback": [
      "\u001b[0;31m---------------------------------------------------------------------------\u001b[0m",
      "\u001b[0;31mZeroDivisionError\u001b[0m                         Traceback (most recent call last)",
      "\u001b[0;32m/var/folders/s0/__n7qh094kn1cmctf_bzlhmc0000gn/T/ipykernel_17930/1152173066.py\u001b[0m in \u001b[0;36m<module>\u001b[0;34m\u001b[0m\n\u001b[0;32m----> 1\u001b[0;31m \u001b[0mprint\u001b[0m\u001b[0;34m(\u001b[0m\u001b[0;36m5\u001b[0m\u001b[0;34m/\u001b[0m\u001b[0;36m0\u001b[0m\u001b[0;34m)\u001b[0m\u001b[0;34m\u001b[0m\u001b[0;34m\u001b[0m\u001b[0m\n\u001b[0m",
      "\u001b[0;31mZeroDivisionError\u001b[0m: division by zero"
     ]
    }
   ],
   "source": [
    "print(5/0)"
   ]
  },
  {
   "cell_type": "code",
   "execution_count": 22,
   "id": "ef464689",
   "metadata": {},
   "outputs": [
    {
     "ename": "TypeError",
     "evalue": "unsupported operand type(s) for +: 'int' and 'str'",
     "output_type": "error",
     "traceback": [
      "\u001b[0;31m---------------------------------------------------------------------------\u001b[0m",
      "\u001b[0;31mTypeError\u001b[0m                                 Traceback (most recent call last)",
      "\u001b[0;32m/var/folders/s0/__n7qh094kn1cmctf_bzlhmc0000gn/T/ipykernel_17930/1063262666.py\u001b[0m in \u001b[0;36m<module>\u001b[0;34m\u001b[0m\n\u001b[1;32m      1\u001b[0m \u001b[0mx\u001b[0m\u001b[0;34m=\u001b[0m\u001b[0;36m5\u001b[0m\u001b[0;34m\u001b[0m\u001b[0;34m\u001b[0m\u001b[0m\n\u001b[1;32m      2\u001b[0m \u001b[0my\u001b[0m\u001b[0;34m=\u001b[0m\u001b[0;34m\"Hello\"\u001b[0m\u001b[0;34m\u001b[0m\u001b[0;34m\u001b[0m\u001b[0m\n\u001b[0;32m----> 3\u001b[0;31m \u001b[0mz\u001b[0m\u001b[0;34m=\u001b[0m \u001b[0mx\u001b[0m\u001b[0;34m+\u001b[0m\u001b[0my\u001b[0m\u001b[0;34m\u001b[0m\u001b[0;34m\u001b[0m\u001b[0m\n\u001b[0m",
      "\u001b[0;31mTypeError\u001b[0m: unsupported operand type(s) for +: 'int' and 'str'"
     ]
    }
   ],
   "source": [
    "x=5\n",
    "y=\"Hello\"\n",
    "z= x+y"
   ]
  },
  {
   "cell_type": "code",
   "execution_count": 24,
   "id": "a01adcc7",
   "metadata": {},
   "outputs": [
    {
     "name": "stdout",
     "output_type": "stream",
     "text": [
      "Error: can not add int and str\n"
     ]
    }
   ],
   "source": [
    "x=5\n",
    "y=\"Hello\"\n",
    "\n",
    "try:\n",
    "    z=x+y\n",
    "except TypeError:\n",
    "    print(\"Error: can not add int and str\")"
   ]
  },
  {
   "cell_type": "code",
   "execution_count": 38,
   "id": "f72c9095",
   "metadata": {},
   "outputs": [
    {
     "name": "stdout",
     "output_type": "stream",
     "text": [
      "Second variable:  2\n",
      "An error occured\n"
     ]
    }
   ],
   "source": [
    "list=[1,2,3]\n",
    "try:\n",
    "    print(\"Second variable: \", list[1])\n",
    "    print(\"Fourth variable: \", list[3])\n",
    "except:\n",
    "    print('An error occured')"
   ]
  },
  {
   "cell_type": "code",
   "execution_count": 28,
   "id": "917b100a",
   "metadata": {},
   "outputs": [
    {
     "name": "stdout",
     "output_type": "stream",
     "text": [
      "-5.0\n",
      "a/b results 0\n"
     ]
    }
   ],
   "source": [
    "def test(a,b):\n",
    "    try:\n",
    "        c=(a+b)/(a-b)\n",
    "    except ZeroDivisionError:\n",
    "        print(\"a/b results 0\")\n",
    "    else:\n",
    "        print(c)\n",
    "test(2,3)\n",
    "test(3,3)"
   ]
  },
  {
   "cell_type": "markdown",
   "id": "704291a9",
   "metadata": {},
   "source": [
    "## Create a simple calculator using classes"
   ]
  },
  {
   "cell_type": "code",
   "execution_count": 1,
   "id": "5070514a",
   "metadata": {},
   "outputs": [
    {
     "name": "stdout",
     "output_type": "stream",
     "text": [
      "Enter first number: 1\n",
      "Enter second number: 2\n",
      "\n",
      "0. Exit\n",
      "1. Addition\n",
      "2. Subtraction\n",
      "3. Multiplication\n",
      "4. Division\n",
      "Enter your choice....1\n",
      "Result: 3\n",
      "\n",
      "0. Exit\n",
      "1. Addition\n",
      "2. Subtraction\n",
      "3. Multiplication\n",
      "4. Division\n",
      "Enter your choice....2\n",
      "Result: -1\n",
      "\n",
      "0. Exit\n",
      "1. Addition\n",
      "2. Subtraction\n",
      "3. Multiplication\n",
      "4. Division\n",
      "Enter your choice....3\n",
      "Result: 2\n",
      "\n",
      "0. Exit\n",
      "1. Addition\n",
      "2. Subtraction\n",
      "3. Multiplication\n",
      "4. Division\n",
      "Enter your choice....4\n",
      "Result: 0.5\n",
      "\n",
      "0. Exit\n",
      "1. Addition\n",
      "2. Subtraction\n",
      "3. Multiplication\n",
      "4. Division\n",
      "Enter your choice....0\n",
      "Exit\n",
      "\n"
     ]
    }
   ],
   "source": [
    "class calculator():\n",
    "    def __init__(self,input1,input2):\n",
    "        self.input1=input1\n",
    "        self.input2=input2\n",
    "    def addition(self):\n",
    "        return self.input1+self.input2\n",
    "    def subtraction(self):\n",
    "        return self.input1-self.input2\n",
    "    def multiplication(self):\n",
    "        return self.input1*self.input2\n",
    "    def division(self):\n",
    "        return self.input1/self.input2\n",
    "input_1=int(input(\"Enter first number: \"))\n",
    "input_2=int(input(\"Enter second number: \"))\n",
    "my_calc=calculator(input_1,input_2)\n",
    "\n",
    "choice=1\n",
    "while choice!=0:\n",
    "    print()\n",
    "    print(\"0. Exit\")\n",
    "    print(\"1. Addition\")\n",
    "    print(\"2. Subtraction\")\n",
    "    print(\"3. Multiplication\")\n",
    "    print(\"4. Division\")\n",
    "    choice=int(input(\"Enter your choice....\"))\n",
    "    \n",
    "    if choice==1:\n",
    "        print(f\"Result: {my_calc.addition()}\")\n",
    "        \n",
    "    elif choice==2:\n",
    "        print(f\"Result: {my_calc.subtraction()}\")\n",
    "    \n",
    "    elif choice==3:\n",
    "        print(f\"Result: {my_calc.multiplication()}\")\n",
    "    elif choice==4:\n",
    "        print(f\"Result: {my_calc.division()}\")\n",
    "    elif choice==0:\n",
    "              print(\"Exit\")\n",
    "    else:\n",
    "              print(\"Sorry Invalid choice\")\n",
    "print()"
   ]
  },
  {
   "cell_type": "markdown",
   "id": "0ec161b5",
   "metadata": {},
   "source": [
    "## ATM machine "
   ]
  },
  {
   "cell_type": "code",
   "execution_count": 30,
   "id": "267c3e25",
   "metadata": {},
   "outputs": [],
   "source": [
    "class Bank_account:\n",
    "    def __init__(self):\n",
    "        self.balance=0\n",
    "        print(\"Hello! Welcome to the ATM\")\n",
    "    def deposit(self):\n",
    "        amount= float(input(\"Enter the amount you want to deposit: \"))\n",
    "        self.balance+=amount\n",
    "        print(\"\\n Amount deposited\", amount)\n",
    "        \n",
    "    def withdraw(self):\n",
    "        amount= float(input(\"Enter the amount you want to withdraw: \"))\n",
    "        if self.balance>=amount:\n",
    "            self.balance-=amount\n",
    "            print(\"\\nYou withdrawn\", amount)\n",
    "        else:\n",
    "            print(\"\\n Insifficient Balance\")\n",
    "    def display(self):\n",
    "        print(\"The avaiable balance is\", self.balance)"
   ]
  },
  {
   "cell_type": "code",
   "execution_count": 32,
   "id": "a6e40459",
   "metadata": {},
   "outputs": [
    {
     "name": "stdout",
     "output_type": "stream",
     "text": [
      "Hello! Welcome to the ATM\n",
      "The avaiable balance is 0\n"
     ]
    }
   ],
   "source": [
    "sams_account=Bank_account()\n",
    "sams_account.display()"
   ]
  },
  {
   "cell_type": "code",
   "execution_count": 33,
   "id": "5349965d",
   "metadata": {},
   "outputs": [
    {
     "name": "stdout",
     "output_type": "stream",
     "text": [
      "Enter the amount you want to deposit: 500\n",
      "\n",
      " Amount deposited 500.0\n"
     ]
    }
   ],
   "source": [
    "# Deposit\n",
    "sams_account.deposit()"
   ]
  },
  {
   "cell_type": "code",
   "execution_count": 34,
   "id": "5453845a",
   "metadata": {},
   "outputs": [
    {
     "name": "stdout",
     "output_type": "stream",
     "text": [
      "The avaiable balance is 500.0\n"
     ]
    }
   ],
   "source": [
    "sams_account.display()"
   ]
  },
  {
   "cell_type": "code",
   "execution_count": 36,
   "id": "f8100cc9",
   "metadata": {},
   "outputs": [
    {
     "name": "stdout",
     "output_type": "stream",
     "text": [
      "Enter the amount you want to withdraw: 200\n",
      "\n",
      "You withdrawn 200.0\n"
     ]
    }
   ],
   "source": [
    "# Withdraw \n",
    "sams_account.withdraw()"
   ]
  },
  {
   "cell_type": "code",
   "execution_count": 37,
   "id": "8929aabf",
   "metadata": {},
   "outputs": [
    {
     "name": "stdout",
     "output_type": "stream",
     "text": [
      "The avaiable balance is 300.0\n"
     ]
    }
   ],
   "source": [
    "sams_account.display()"
   ]
  }
 ],
 "metadata": {
  "kernelspec": {
   "display_name": "Python 3 (ipykernel)",
   "language": "python",
   "name": "python3"
  },
  "language_info": {
   "codemirror_mode": {
    "name": "ipython",
    "version": 3
   },
   "file_extension": ".py",
   "mimetype": "text/x-python",
   "name": "python",
   "nbconvert_exporter": "python",
   "pygments_lexer": "ipython3",
   "version": "3.9.13"
  }
 },
 "nbformat": 4,
 "nbformat_minor": 5
}
